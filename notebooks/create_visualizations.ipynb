{
 "cells": [
  {
   "cell_type": "code",
   "execution_count": 5,
   "metadata": {},
   "outputs": [
    {
     "name": "stdout",
     "output_type": "stream",
     "text": [
      "Collecting kaleido\n",
      "  Using cached kaleido-0.2.1-py2.py3-none-manylinux1_x86_64.whl (79.9 MB)\n",
      "Installing collected packages: kaleido\n",
      "Successfully installed kaleido-0.2.1\n"
     ]
    }
   ],
   "source": [
    "!pip install --upgrade kaleido"
   ]
  },
  {
   "cell_type": "code",
   "execution_count": 1,
   "metadata": {},
   "outputs": [],
   "source": [
    "import seaborn as sns\n",
    "import pandas as pd\n",
    "import plotly.express as px"
   ]
  },
  {
   "attachments": {},
   "cell_type": "markdown",
   "metadata": {},
   "source": [
    "# Systems"
   ]
  },
  {
   "cell_type": "code",
   "execution_count": 2,
   "metadata": {},
   "outputs": [],
   "source": [
    "df_sys = pd.read_csv(\"../data/review_tables/sys-lang.tsv\", sep=\"\\t\")"
   ]
  },
  {
   "cell_type": "code",
   "execution_count": 3,
   "metadata": {},
   "outputs": [],
   "source": [
    "df_lang_cnt = df_sys.groupby(\"Name\").count().reset_index()[[\"Name\", \"System\"]].rename(columns={\"System\": \"Count\", \"Name\": \"Language\"}).sort_values(\"Count\", ascending=False)"
   ]
  },
  {
   "cell_type": "code",
   "execution_count": 13,
   "metadata": {},
   "outputs": [
    {
     "data": {
      "application/vnd.plotly.v1+json": {
       "config": {
        "plotlyServerURL": "https://plot.ly"
       },
       "data": [
        {
         "alignmentgroup": "True",
         "hovertemplate": "Language=%{x}<br>Count=%{y}<extra></extra>",
         "legendgroup": "",
         "marker": {
          "color": "#8d9bb3",
          "pattern": {
           "shape": ""
          }
         },
         "name": "",
         "offsetgroup": "",
         "orientation": "v",
         "showlegend": false,
         "textposition": "auto",
         "texttemplate": "%{y}",
         "type": "bar",
         "x": [
          "English",
          "German",
          "French",
          "Spanish",
          "Italian",
          "Russian",
          "Chinese",
          "Portuguese",
          "Persian",
          "Arabic",
          "Kannada",
          "Romanian",
          "Lithuanian",
          "Hebrew",
          "Hindi",
          "Armenian",
          "Greek",
          "Czech",
          "Belarusian",
          "Bashkir",
          "Ukrainian"
         ],
         "xaxis": "x",
         "y": [
          20,
          10,
          9,
          7,
          6,
          4,
          3,
          2,
          2,
          1,
          1,
          1,
          1,
          1,
          1,
          1,
          1,
          1,
          1,
          1,
          1
         ],
         "yaxis": "y"
        }
       ],
       "layout": {
        "barmode": "relative",
        "font": {
         "family": "Times New Roman",
         "size": 20
        },
        "height": 500,
        "legend": {
         "tracegroupgap": 0
        },
        "margin": {
         "b": 7,
         "l": 5,
         "r": 5,
         "t": 5
        },
        "template": {
         "data": {
          "bar": [
           {
            "error_x": {
             "color": "#2a3f5f"
            },
            "error_y": {
             "color": "#2a3f5f"
            },
            "marker": {
             "line": {
              "color": "#E5ECF6",
              "width": 0.5
             },
             "pattern": {
              "fillmode": "overlay",
              "size": 10,
              "solidity": 0.2
             }
            },
            "type": "bar"
           }
          ],
          "barpolar": [
           {
            "marker": {
             "line": {
              "color": "#E5ECF6",
              "width": 0.5
             },
             "pattern": {
              "fillmode": "overlay",
              "size": 10,
              "solidity": 0.2
             }
            },
            "type": "barpolar"
           }
          ],
          "carpet": [
           {
            "aaxis": {
             "endlinecolor": "#2a3f5f",
             "gridcolor": "white",
             "linecolor": "white",
             "minorgridcolor": "white",
             "startlinecolor": "#2a3f5f"
            },
            "baxis": {
             "endlinecolor": "#2a3f5f",
             "gridcolor": "white",
             "linecolor": "white",
             "minorgridcolor": "white",
             "startlinecolor": "#2a3f5f"
            },
            "type": "carpet"
           }
          ],
          "choropleth": [
           {
            "colorbar": {
             "outlinewidth": 0,
             "ticks": ""
            },
            "type": "choropleth"
           }
          ],
          "contour": [
           {
            "colorbar": {
             "outlinewidth": 0,
             "ticks": ""
            },
            "colorscale": [
             [
              0,
              "#0d0887"
             ],
             [
              0.1111111111111111,
              "#46039f"
             ],
             [
              0.2222222222222222,
              "#7201a8"
             ],
             [
              0.3333333333333333,
              "#9c179e"
             ],
             [
              0.4444444444444444,
              "#bd3786"
             ],
             [
              0.5555555555555556,
              "#d8576b"
             ],
             [
              0.6666666666666666,
              "#ed7953"
             ],
             [
              0.7777777777777778,
              "#fb9f3a"
             ],
             [
              0.8888888888888888,
              "#fdca26"
             ],
             [
              1,
              "#f0f921"
             ]
            ],
            "type": "contour"
           }
          ],
          "contourcarpet": [
           {
            "colorbar": {
             "outlinewidth": 0,
             "ticks": ""
            },
            "type": "contourcarpet"
           }
          ],
          "heatmap": [
           {
            "colorbar": {
             "outlinewidth": 0,
             "ticks": ""
            },
            "colorscale": [
             [
              0,
              "#0d0887"
             ],
             [
              0.1111111111111111,
              "#46039f"
             ],
             [
              0.2222222222222222,
              "#7201a8"
             ],
             [
              0.3333333333333333,
              "#9c179e"
             ],
             [
              0.4444444444444444,
              "#bd3786"
             ],
             [
              0.5555555555555556,
              "#d8576b"
             ],
             [
              0.6666666666666666,
              "#ed7953"
             ],
             [
              0.7777777777777778,
              "#fb9f3a"
             ],
             [
              0.8888888888888888,
              "#fdca26"
             ],
             [
              1,
              "#f0f921"
             ]
            ],
            "type": "heatmap"
           }
          ],
          "heatmapgl": [
           {
            "colorbar": {
             "outlinewidth": 0,
             "ticks": ""
            },
            "colorscale": [
             [
              0,
              "#0d0887"
             ],
             [
              0.1111111111111111,
              "#46039f"
             ],
             [
              0.2222222222222222,
              "#7201a8"
             ],
             [
              0.3333333333333333,
              "#9c179e"
             ],
             [
              0.4444444444444444,
              "#bd3786"
             ],
             [
              0.5555555555555556,
              "#d8576b"
             ],
             [
              0.6666666666666666,
              "#ed7953"
             ],
             [
              0.7777777777777778,
              "#fb9f3a"
             ],
             [
              0.8888888888888888,
              "#fdca26"
             ],
             [
              1,
              "#f0f921"
             ]
            ],
            "type": "heatmapgl"
           }
          ],
          "histogram": [
           {
            "marker": {
             "pattern": {
              "fillmode": "overlay",
              "size": 10,
              "solidity": 0.2
             }
            },
            "type": "histogram"
           }
          ],
          "histogram2d": [
           {
            "colorbar": {
             "outlinewidth": 0,
             "ticks": ""
            },
            "colorscale": [
             [
              0,
              "#0d0887"
             ],
             [
              0.1111111111111111,
              "#46039f"
             ],
             [
              0.2222222222222222,
              "#7201a8"
             ],
             [
              0.3333333333333333,
              "#9c179e"
             ],
             [
              0.4444444444444444,
              "#bd3786"
             ],
             [
              0.5555555555555556,
              "#d8576b"
             ],
             [
              0.6666666666666666,
              "#ed7953"
             ],
             [
              0.7777777777777778,
              "#fb9f3a"
             ],
             [
              0.8888888888888888,
              "#fdca26"
             ],
             [
              1,
              "#f0f921"
             ]
            ],
            "type": "histogram2d"
           }
          ],
          "histogram2dcontour": [
           {
            "colorbar": {
             "outlinewidth": 0,
             "ticks": ""
            },
            "colorscale": [
             [
              0,
              "#0d0887"
             ],
             [
              0.1111111111111111,
              "#46039f"
             ],
             [
              0.2222222222222222,
              "#7201a8"
             ],
             [
              0.3333333333333333,
              "#9c179e"
             ],
             [
              0.4444444444444444,
              "#bd3786"
             ],
             [
              0.5555555555555556,
              "#d8576b"
             ],
             [
              0.6666666666666666,
              "#ed7953"
             ],
             [
              0.7777777777777778,
              "#fb9f3a"
             ],
             [
              0.8888888888888888,
              "#fdca26"
             ],
             [
              1,
              "#f0f921"
             ]
            ],
            "type": "histogram2dcontour"
           }
          ],
          "mesh3d": [
           {
            "colorbar": {
             "outlinewidth": 0,
             "ticks": ""
            },
            "type": "mesh3d"
           }
          ],
          "parcoords": [
           {
            "line": {
             "colorbar": {
              "outlinewidth": 0,
              "ticks": ""
             }
            },
            "type": "parcoords"
           }
          ],
          "pie": [
           {
            "automargin": true,
            "type": "pie"
           }
          ],
          "scatter": [
           {
            "fillpattern": {
             "fillmode": "overlay",
             "size": 10,
             "solidity": 0.2
            },
            "type": "scatter"
           }
          ],
          "scatter3d": [
           {
            "line": {
             "colorbar": {
              "outlinewidth": 0,
              "ticks": ""
             }
            },
            "marker": {
             "colorbar": {
              "outlinewidth": 0,
              "ticks": ""
             }
            },
            "type": "scatter3d"
           }
          ],
          "scattercarpet": [
           {
            "marker": {
             "colorbar": {
              "outlinewidth": 0,
              "ticks": ""
             }
            },
            "type": "scattercarpet"
           }
          ],
          "scattergeo": [
           {
            "marker": {
             "colorbar": {
              "outlinewidth": 0,
              "ticks": ""
             }
            },
            "type": "scattergeo"
           }
          ],
          "scattergl": [
           {
            "marker": {
             "colorbar": {
              "outlinewidth": 0,
              "ticks": ""
             }
            },
            "type": "scattergl"
           }
          ],
          "scattermapbox": [
           {
            "marker": {
             "colorbar": {
              "outlinewidth": 0,
              "ticks": ""
             }
            },
            "type": "scattermapbox"
           }
          ],
          "scatterpolar": [
           {
            "marker": {
             "colorbar": {
              "outlinewidth": 0,
              "ticks": ""
             }
            },
            "type": "scatterpolar"
           }
          ],
          "scatterpolargl": [
           {
            "marker": {
             "colorbar": {
              "outlinewidth": 0,
              "ticks": ""
             }
            },
            "type": "scatterpolargl"
           }
          ],
          "scatterternary": [
           {
            "marker": {
             "colorbar": {
              "outlinewidth": 0,
              "ticks": ""
             }
            },
            "type": "scatterternary"
           }
          ],
          "surface": [
           {
            "colorbar": {
             "outlinewidth": 0,
             "ticks": ""
            },
            "colorscale": [
             [
              0,
              "#0d0887"
             ],
             [
              0.1111111111111111,
              "#46039f"
             ],
             [
              0.2222222222222222,
              "#7201a8"
             ],
             [
              0.3333333333333333,
              "#9c179e"
             ],
             [
              0.4444444444444444,
              "#bd3786"
             ],
             [
              0.5555555555555556,
              "#d8576b"
             ],
             [
              0.6666666666666666,
              "#ed7953"
             ],
             [
              0.7777777777777778,
              "#fb9f3a"
             ],
             [
              0.8888888888888888,
              "#fdca26"
             ],
             [
              1,
              "#f0f921"
             ]
            ],
            "type": "surface"
           }
          ],
          "table": [
           {
            "cells": {
             "fill": {
              "color": "#EBF0F8"
             },
             "line": {
              "color": "white"
             }
            },
            "header": {
             "fill": {
              "color": "#C8D4E3"
             },
             "line": {
              "color": "white"
             }
            },
            "type": "table"
           }
          ]
         },
         "layout": {
          "annotationdefaults": {
           "arrowcolor": "#2a3f5f",
           "arrowhead": 0,
           "arrowwidth": 1
          },
          "autotypenumbers": "strict",
          "coloraxis": {
           "colorbar": {
            "outlinewidth": 0,
            "ticks": ""
           }
          },
          "colorscale": {
           "diverging": [
            [
             0,
             "#8e0152"
            ],
            [
             0.1,
             "#c51b7d"
            ],
            [
             0.2,
             "#de77ae"
            ],
            [
             0.3,
             "#f1b6da"
            ],
            [
             0.4,
             "#fde0ef"
            ],
            [
             0.5,
             "#f7f7f7"
            ],
            [
             0.6,
             "#e6f5d0"
            ],
            [
             0.7,
             "#b8e186"
            ],
            [
             0.8,
             "#7fbc41"
            ],
            [
             0.9,
             "#4d9221"
            ],
            [
             1,
             "#276419"
            ]
           ],
           "sequential": [
            [
             0,
             "#0d0887"
            ],
            [
             0.1111111111111111,
             "#46039f"
            ],
            [
             0.2222222222222222,
             "#7201a8"
            ],
            [
             0.3333333333333333,
             "#9c179e"
            ],
            [
             0.4444444444444444,
             "#bd3786"
            ],
            [
             0.5555555555555556,
             "#d8576b"
            ],
            [
             0.6666666666666666,
             "#ed7953"
            ],
            [
             0.7777777777777778,
             "#fb9f3a"
            ],
            [
             0.8888888888888888,
             "#fdca26"
            ],
            [
             1,
             "#f0f921"
            ]
           ],
           "sequentialminus": [
            [
             0,
             "#0d0887"
            ],
            [
             0.1111111111111111,
             "#46039f"
            ],
            [
             0.2222222222222222,
             "#7201a8"
            ],
            [
             0.3333333333333333,
             "#9c179e"
            ],
            [
             0.4444444444444444,
             "#bd3786"
            ],
            [
             0.5555555555555556,
             "#d8576b"
            ],
            [
             0.6666666666666666,
             "#ed7953"
            ],
            [
             0.7777777777777778,
             "#fb9f3a"
            ],
            [
             0.8888888888888888,
             "#fdca26"
            ],
            [
             1,
             "#f0f921"
            ]
           ]
          },
          "colorway": [
           "#636efa",
           "#EF553B",
           "#00cc96",
           "#ab63fa",
           "#FFA15A",
           "#19d3f3",
           "#FF6692",
           "#B6E880",
           "#FF97FF",
           "#FECB52"
          ],
          "font": {
           "color": "#2a3f5f"
          },
          "geo": {
           "bgcolor": "white",
           "lakecolor": "white",
           "landcolor": "#E5ECF6",
           "showlakes": true,
           "showland": true,
           "subunitcolor": "white"
          },
          "hoverlabel": {
           "align": "left"
          },
          "hovermode": "closest",
          "mapbox": {
           "style": "light"
          },
          "paper_bgcolor": "white",
          "plot_bgcolor": "#E5ECF6",
          "polar": {
           "angularaxis": {
            "gridcolor": "white",
            "linecolor": "white",
            "ticks": ""
           },
           "bgcolor": "#E5ECF6",
           "radialaxis": {
            "gridcolor": "white",
            "linecolor": "white",
            "ticks": ""
           }
          },
          "scene": {
           "xaxis": {
            "backgroundcolor": "#E5ECF6",
            "gridcolor": "white",
            "gridwidth": 2,
            "linecolor": "white",
            "showbackground": true,
            "ticks": "",
            "zerolinecolor": "white"
           },
           "yaxis": {
            "backgroundcolor": "#E5ECF6",
            "gridcolor": "white",
            "gridwidth": 2,
            "linecolor": "white",
            "showbackground": true,
            "ticks": "",
            "zerolinecolor": "white"
           },
           "zaxis": {
            "backgroundcolor": "#E5ECF6",
            "gridcolor": "white",
            "gridwidth": 2,
            "linecolor": "white",
            "showbackground": true,
            "ticks": "",
            "zerolinecolor": "white"
           }
          },
          "shapedefaults": {
           "line": {
            "color": "#2a3f5f"
           }
          },
          "ternary": {
           "aaxis": {
            "gridcolor": "white",
            "linecolor": "white",
            "ticks": ""
           },
           "baxis": {
            "gridcolor": "white",
            "linecolor": "white",
            "ticks": ""
           },
           "bgcolor": "#E5ECF6",
           "caxis": {
            "gridcolor": "white",
            "linecolor": "white",
            "ticks": ""
           }
          },
          "title": {
           "x": 0.05
          },
          "xaxis": {
           "automargin": true,
           "gridcolor": "white",
           "linecolor": "white",
           "ticks": "",
           "title": {
            "standoff": 15
           },
           "zerolinecolor": "white",
           "zerolinewidth": 2
          },
          "yaxis": {
           "automargin": true,
           "gridcolor": "white",
           "linecolor": "white",
           "ticks": "",
           "title": {
            "standoff": 15
           },
           "zerolinecolor": "white",
           "zerolinewidth": 2
          }
         }
        },
        "width": 1000,
        "xaxis": {
         "anchor": "y",
         "domain": [
          0,
          1
         ],
         "title": {
          "text": "Language"
         }
        },
        "yaxis": {
         "anchor": "x",
         "domain": [
          0,
          1
         ],
         "title": {
          "text": "Count"
         }
        }
       }
      }
     },
     "metadata": {},
     "output_type": "display_data"
    }
   ],
   "source": [
    "fig = px.bar(df_lang_cnt, x='Language', y='Count', text_auto=True, width=1000, height=500, color_discrete_sequence=[\"#8d9bb3\"])\n",
    "\n",
    "fig.update_layout(\n",
    "    # title=\"Number of Systems per Language\",\n",
    "    font=dict(size=20, family=\"Times New Roman\",),\n",
    "    margin = dict(b=7, t=5, r=5, l=5),\n",
    ")\n",
    "\n",
    "fig.show()\n",
    "fig.write_image(\"../data/img/systems-per-language.pdf\")"
   ]
  },
  {
   "cell_type": "code",
   "execution_count": null,
   "metadata": {},
   "outputs": [
    {
     "data": {
      "text/html": [
       "<div>\n",
       "<style scoped>\n",
       "    .dataframe tbody tr th:only-of-type {\n",
       "        vertical-align: middle;\n",
       "    }\n",
       "\n",
       "    .dataframe tbody tr th {\n",
       "        vertical-align: top;\n",
       "    }\n",
       "\n",
       "    .dataframe thead th {\n",
       "        text-align: right;\n",
       "    }\n",
       "</style>\n",
       "<table border=\"1\" class=\"dataframe\">\n",
       "  <thead>\n",
       "    <tr style=\"text-align: right;\">\n",
       "      <th></th>\n",
       "      <th>Language</th>\n",
       "      <th>System</th>\n",
       "      <th>Language Family</th>\n",
       "      <th>Language Branch</th>\n",
       "      <th>Language Subgroup</th>\n",
       "      <th>Writing System</th>\n",
       "      <th>Script/Alphabet</th>\n",
       "      <th>Name</th>\n",
       "    </tr>\n",
       "  </thead>\n",
       "  <tbody>\n",
       "    <tr>\n",
       "      <th>0</th>\n",
       "      <td>en</td>\n",
       "      <td>QALL-ME</td>\n",
       "      <td>Indo-European</td>\n",
       "      <td>Germanic</td>\n",
       "      <td>North Sea Germanic</td>\n",
       "      <td>Alphabetical</td>\n",
       "      <td>Latin</td>\n",
       "      <td>English</td>\n",
       "    </tr>\n",
       "    <tr>\n",
       "      <th>1</th>\n",
       "      <td>en</td>\n",
       "      <td>N. Aggarwal</td>\n",
       "      <td>Indo-European</td>\n",
       "      <td>Germanic</td>\n",
       "      <td>North Sea Germanic</td>\n",
       "      <td>Alphabetical</td>\n",
       "      <td>Latin</td>\n",
       "      <td>English</td>\n",
       "    </tr>\n",
       "    <tr>\n",
       "      <th>2</th>\n",
       "      <td>en</td>\n",
       "      <td>QAKiS</td>\n",
       "      <td>Indo-European</td>\n",
       "      <td>Germanic</td>\n",
       "      <td>North Sea Germanic</td>\n",
       "      <td>Alphabetical</td>\n",
       "      <td>Latin</td>\n",
       "      <td>English</td>\n",
       "    </tr>\n",
       "    <tr>\n",
       "      <th>3</th>\n",
       "      <td>en</td>\n",
       "      <td>SWSNL</td>\n",
       "      <td>Indo-European</td>\n",
       "      <td>Germanic</td>\n",
       "      <td>North Sea Germanic</td>\n",
       "      <td>Alphabetical</td>\n",
       "      <td>Latin</td>\n",
       "      <td>English</td>\n",
       "    </tr>\n",
       "    <tr>\n",
       "      <th>4</th>\n",
       "      <td>en</td>\n",
       "      <td>UTQA</td>\n",
       "      <td>Indo-European</td>\n",
       "      <td>Germanic</td>\n",
       "      <td>North Sea Germanic</td>\n",
       "      <td>Alphabetical</td>\n",
       "      <td>Latin</td>\n",
       "      <td>English</td>\n",
       "    </tr>\n",
       "  </tbody>\n",
       "</table>\n",
       "</div>"
      ],
      "text/plain": [
       "  Language       System Language Family Language Branch   Language Subgroup  \\\n",
       "0       en      QALL-ME   Indo-European        Germanic  North Sea Germanic   \n",
       "1       en  N. Aggarwal   Indo-European        Germanic  North Sea Germanic   \n",
       "2       en        QAKiS   Indo-European        Germanic  North Sea Germanic   \n",
       "3       en        SWSNL   Indo-European        Germanic  North Sea Germanic   \n",
       "4       en         UTQA   Indo-European        Germanic  North Sea Germanic   \n",
       "\n",
       "  Writing System Script/Alphabet     Name  \n",
       "0   Alphabetical           Latin  English  \n",
       "1   Alphabetical           Latin  English  \n",
       "2   Alphabetical           Latin  English  \n",
       "3   Alphabetical           Latin  English  \n",
       "4   Alphabetical           Latin  English  "
      ]
     },
     "execution_count": 3,
     "metadata": {},
     "output_type": "execute_result"
    }
   ],
   "source": [
    "df_sys.head()"
   ]
  },
  {
   "cell_type": "code",
   "execution_count": 2,
   "metadata": {},
   "outputs": [
    {
     "ename": "NameError",
     "evalue": "name 'df_sys' is not defined",
     "output_type": "error",
     "traceback": [
      "\u001b[0;31m---------------------------------------------------------------------------\u001b[0m",
      "\u001b[0;31mNameError\u001b[0m                                 Traceback (most recent call last)",
      "Cell \u001b[0;32mIn[2], line 1\u001b[0m\n\u001b[0;32m----> 1\u001b[0m fig \u001b[39m=\u001b[39m px\u001b[39m.\u001b[39msunburst(df_sys, path\u001b[39m=\u001b[39m[\u001b[39m'\u001b[39m\u001b[39mLanguage Family\u001b[39m\u001b[39m'\u001b[39m, \u001b[39m'\u001b[39m\u001b[39mLanguage Branch\u001b[39m\u001b[39m'\u001b[39m, \u001b[39m\"\u001b[39m\u001b[39mName\u001b[39m\u001b[39m\"\u001b[39m], width\u001b[39m=\u001b[39m\u001b[39m1150\u001b[39m, height\u001b[39m=\u001b[39m\u001b[39m800\u001b[39m\n\u001b[1;32m      2\u001b[0m                   \u001b[39m#color_continuous_midpoint=np.average(df['lifeExp'], weights=df['pop'])\u001b[39;00m\n\u001b[1;32m      3\u001b[0m                   , color_discrete_sequence\u001b[39m=\u001b[39m[\u001b[39m\"\u001b[39m\u001b[39m#8d9bb3\u001b[39m\u001b[39m\"\u001b[39m, \u001b[39m\"\u001b[39m\u001b[39m#b38d8d\u001b[39m\u001b[39m\"\u001b[39m, \u001b[39m\"\u001b[39m\u001b[39m#8db392\u001b[39m\u001b[39m\"\u001b[39m]\n\u001b[1;32m      4\u001b[0m                   )\n\u001b[1;32m      6\u001b[0m fig\u001b[39m.\u001b[39madd_annotation(text\u001b[39m=\u001b[39m\u001b[39m\"\u001b[39m\u001b[39mTurkic\u001b[39m\u001b[39m\"\u001b[39m, xanchor\u001b[39m=\u001b[39m\u001b[39m\"\u001b[39m\u001b[39mleft\u001b[39m\u001b[39m\"\u001b[39m, x\u001b[39m=\u001b[39m\u001b[39m0.62\u001b[39m, y\u001b[39m=\u001b[39m\u001b[39m0.495\u001b[39m, ax\u001b[39m=\u001b[39m\u001b[39m220\u001b[39m, ay\u001b[39m=\u001b[39m\u001b[39m-\u001b[39m\u001b[39m300\u001b[39m)\n\u001b[1;32m      7\u001b[0m fig\u001b[39m.\u001b[39madd_annotation(text\u001b[39m=\u001b[39m\u001b[39m\"\u001b[39m\u001b[39mCommon Turkic\u001b[39m\u001b[39m\"\u001b[39m, xanchor\u001b[39m=\u001b[39m\u001b[39m\"\u001b[39m\u001b[39mleft\u001b[39m\u001b[39m\"\u001b[39m, x\u001b[39m=\u001b[39m\u001b[39m0.645\u001b[39m, y\u001b[39m=\u001b[39m\u001b[39m0.49\u001b[39m, ax\u001b[39m=\u001b[39m\u001b[39m230\u001b[39m, ay\u001b[39m=\u001b[39m\u001b[39m-\u001b[39m\u001b[39m270\u001b[39m)\n",
      "\u001b[0;31mNameError\u001b[0m: name 'df_sys' is not defined"
     ]
    }
   ],
   "source": [
    "fig = px.sunburst(df_sys, path=['Language Family', 'Language Branch', \"Name\"], width=1150, height=800\n",
    "                  #color_continuous_midpoint=np.average(df['lifeExp'], weights=df['pop'])\n",
    "                  , color_discrete_sequence=[\"#8d9bb3\", \"#b38d8d\", \"#8db392\"]\n",
    "                  )\n",
    "\n",
    "fig.add_annotation(text=\"Turkic\", xanchor=\"left\", x=0.62, y=0.495, ax=220, ay=-300)\n",
    "fig.add_annotation(text=\"Common Turkic\", xanchor=\"left\", x=0.645, y=0.49, ax=230, ay=-270)\n",
    "\n",
    "fig.add_annotation(text=\"Sino-Tibetan\", xanchor=\"left\", x=0.6, y=0.425, ax=300, ay=70)\n",
    "#fig.add_annotation(text=\"Sinitic\", xanchor=\"left\", x=0.69, y=0.472, ax=280, ay=-100)\n",
    "\n",
    "\n",
    "fig.add_annotation(text=\"Afro-Asiatic\", xanchor=\"left\", x=0.62, y=0.463, ax=320, ay=45)\n",
    "fig.add_annotation(text=\"Dravidian\", xanchor=\"left\", x=0.62, y=0.48, ax=320, ay=-75)\n",
    "fig.add_annotation(text=\"Southern\", xanchor=\"left\", x=0.69, y=0.47, ax=300, ay=-55)\n",
    "# fig.add_annotation(text=\"Semitic\", xanchor=\"left\", x=0.75, y=0.433, ax=240, ay=48)\n",
    "\n",
    "fig.add_annotation(text=\"Graeco-Phrygian\", xanchor=\"left\", x=0.7, y=0.323, ax=190, ay=58)\n",
    "fig.add_annotation(text=\"Armenian\", xanchor=\"left\", x=0.68, y=0.295, ax=190, ay=98)\n",
    "\n",
    "fig.update_layout(\n",
    "    # title=\"Distribution of language groups and branches supported by the KGQA systems\",\n",
    "    font=dict(size=20, family=\"Times New Roman\"),\n",
    "    uniformtext=dict(minsize=20, mode='hide'),\n",
    "    legend_title_text='System Count',\n",
    "    margin = dict(b=5, t=5),\n",
    "\n",
    ")\n",
    "\n",
    "fig.show()\n",
    "fig.write_image(\"../data/img/language-families.pdf\")"
   ]
  },
  {
   "cell_type": "markdown",
   "metadata": {},
   "source": [
    "# Benchmarks visualization "
   ]
  },
  {
   "cell_type": "code",
   "execution_count": 37,
   "metadata": {},
   "outputs": [
    {
     "data": {
      "application/vnd.plotly.v1+json": {
       "config": {
        "plotlyServerURL": "https://plot.ly"
       },
       "data": [
        {
         "hovertemplate": "<b>%{hovertext}</b><br><br>Publication year=%{x}<br>Number of Questions (log)=%{y}<br># of Languages=%{marker.color}<br>name=%{text}<extra></extra>",
         "hovertext": [
          "QALD-3",
          "QALD-6",
          "QALD-7",
          "QALD-8",
          "QALD-9",
          "QALD-9-plus",
          "rewordQALD9",
          "QALD10",
          "EventQA",
          "RuBQ 1.0",
          "RuBQ 2.0",
          "MCWQ",
          "Mintaka",
          "MLPQ"
         ],
         "legendgroup": "",
         "marker": {
          "color": [
           6,
           8,
           6,
           6,
           11,
           9,
           2,
           4,
           3,
           2,
           2,
           4,
           9,
           3
          ],
          "coloraxis": "coloraxis",
          "size": [
           6,
           8,
           6,
           6,
           11,
           9,
           2,
           4,
           3,
           2,
           2,
           4,
           9,
           3
          ],
          "sizemode": "area",
          "sizeref": 0.0275,
          "symbol": "circle"
         },
         "mode": "markers+text",
         "name": "",
         "orientation": "v",
         "showlegend": false,
         "text": [
          "QALD-3",
          "QALD-6",
          "QALD-7",
          "QALD-8",
          "QALD-9",
          "QALD-9-plus",
          "rewordQALD9",
          "QALD10",
          "EventQA",
          "RuBQ 1.0",
          "RuBQ 2.0",
          "MCWQ",
          "Mintaka",
          "MLPQ"
         ],
         "textfont": {
          "color": "black",
          "size": 18
         },
         "textposition": [
          "top center",
          "top center",
          "top center",
          "bottom center",
          "top center",
          "top center",
          "bottom center",
          "top center",
          "bottom center",
          "top center",
          "top center",
          "top center",
          "top center",
          "top center"
         ],
         "texttemplate": "%{text}",
         "type": "scatter",
         "x": [
          2013,
          2016,
          2017,
          2018,
          2018,
          2022,
          2022,
          2023,
          2020,
          2020,
          2021,
          2022,
          2022,
          2023
         ],
         "xaxis": "x",
         "y": [
          199,
          450,
          258,
          260,
          558,
          558,
          558,
          909,
          1000,
          1500,
          2910,
          124187,
          20000,
          300000
         ],
         "yaxis": "y"
        }
       ],
       "layout": {
        "coloraxis": {
         "colorbar": {
          "title": {
           "text": "# of Languages"
          }
         },
         "colorscale": [
          [
           0,
           "#0d0887"
          ],
          [
           0.1111111111111111,
           "#46039f"
          ],
          [
           0.2222222222222222,
           "#7201a8"
          ],
          [
           0.3333333333333333,
           "#9c179e"
          ],
          [
           0.4444444444444444,
           "#bd3786"
          ],
          [
           0.5555555555555556,
           "#d8576b"
          ],
          [
           0.6666666666666666,
           "#ed7953"
          ],
          [
           0.7777777777777778,
           "#fb9f3a"
          ],
          [
           0.8888888888888888,
           "#fdca26"
          ],
          [
           1,
           "#f0f921"
          ]
         ]
        },
        "font": {
         "color": "black",
         "family": "Times New Roman",
         "size": 20
        },
        "height": 600,
        "legend": {
         "itemsizing": "constant",
         "tracegroupgap": 0
        },
        "margin": {
         "t": 60
        },
        "template": {
         "data": {
          "bar": [
           {
            "error_x": {
             "color": "#2a3f5f"
            },
            "error_y": {
             "color": "#2a3f5f"
            },
            "marker": {
             "line": {
              "color": "#E5ECF6",
              "width": 0.5
             },
             "pattern": {
              "fillmode": "overlay",
              "size": 10,
              "solidity": 0.2
             }
            },
            "type": "bar"
           }
          ],
          "barpolar": [
           {
            "marker": {
             "line": {
              "color": "#E5ECF6",
              "width": 0.5
             },
             "pattern": {
              "fillmode": "overlay",
              "size": 10,
              "solidity": 0.2
             }
            },
            "type": "barpolar"
           }
          ],
          "carpet": [
           {
            "aaxis": {
             "endlinecolor": "#2a3f5f",
             "gridcolor": "white",
             "linecolor": "white",
             "minorgridcolor": "white",
             "startlinecolor": "#2a3f5f"
            },
            "baxis": {
             "endlinecolor": "#2a3f5f",
             "gridcolor": "white",
             "linecolor": "white",
             "minorgridcolor": "white",
             "startlinecolor": "#2a3f5f"
            },
            "type": "carpet"
           }
          ],
          "choropleth": [
           {
            "colorbar": {
             "outlinewidth": 0,
             "ticks": ""
            },
            "type": "choropleth"
           }
          ],
          "contour": [
           {
            "colorbar": {
             "outlinewidth": 0,
             "ticks": ""
            },
            "colorscale": [
             [
              0,
              "#0d0887"
             ],
             [
              0.1111111111111111,
              "#46039f"
             ],
             [
              0.2222222222222222,
              "#7201a8"
             ],
             [
              0.3333333333333333,
              "#9c179e"
             ],
             [
              0.4444444444444444,
              "#bd3786"
             ],
             [
              0.5555555555555556,
              "#d8576b"
             ],
             [
              0.6666666666666666,
              "#ed7953"
             ],
             [
              0.7777777777777778,
              "#fb9f3a"
             ],
             [
              0.8888888888888888,
              "#fdca26"
             ],
             [
              1,
              "#f0f921"
             ]
            ],
            "type": "contour"
           }
          ],
          "contourcarpet": [
           {
            "colorbar": {
             "outlinewidth": 0,
             "ticks": ""
            },
            "type": "contourcarpet"
           }
          ],
          "heatmap": [
           {
            "colorbar": {
             "outlinewidth": 0,
             "ticks": ""
            },
            "colorscale": [
             [
              0,
              "#0d0887"
             ],
             [
              0.1111111111111111,
              "#46039f"
             ],
             [
              0.2222222222222222,
              "#7201a8"
             ],
             [
              0.3333333333333333,
              "#9c179e"
             ],
             [
              0.4444444444444444,
              "#bd3786"
             ],
             [
              0.5555555555555556,
              "#d8576b"
             ],
             [
              0.6666666666666666,
              "#ed7953"
             ],
             [
              0.7777777777777778,
              "#fb9f3a"
             ],
             [
              0.8888888888888888,
              "#fdca26"
             ],
             [
              1,
              "#f0f921"
             ]
            ],
            "type": "heatmap"
           }
          ],
          "heatmapgl": [
           {
            "colorbar": {
             "outlinewidth": 0,
             "ticks": ""
            },
            "colorscale": [
             [
              0,
              "#0d0887"
             ],
             [
              0.1111111111111111,
              "#46039f"
             ],
             [
              0.2222222222222222,
              "#7201a8"
             ],
             [
              0.3333333333333333,
              "#9c179e"
             ],
             [
              0.4444444444444444,
              "#bd3786"
             ],
             [
              0.5555555555555556,
              "#d8576b"
             ],
             [
              0.6666666666666666,
              "#ed7953"
             ],
             [
              0.7777777777777778,
              "#fb9f3a"
             ],
             [
              0.8888888888888888,
              "#fdca26"
             ],
             [
              1,
              "#f0f921"
             ]
            ],
            "type": "heatmapgl"
           }
          ],
          "histogram": [
           {
            "marker": {
             "pattern": {
              "fillmode": "overlay",
              "size": 10,
              "solidity": 0.2
             }
            },
            "type": "histogram"
           }
          ],
          "histogram2d": [
           {
            "colorbar": {
             "outlinewidth": 0,
             "ticks": ""
            },
            "colorscale": [
             [
              0,
              "#0d0887"
             ],
             [
              0.1111111111111111,
              "#46039f"
             ],
             [
              0.2222222222222222,
              "#7201a8"
             ],
             [
              0.3333333333333333,
              "#9c179e"
             ],
             [
              0.4444444444444444,
              "#bd3786"
             ],
             [
              0.5555555555555556,
              "#d8576b"
             ],
             [
              0.6666666666666666,
              "#ed7953"
             ],
             [
              0.7777777777777778,
              "#fb9f3a"
             ],
             [
              0.8888888888888888,
              "#fdca26"
             ],
             [
              1,
              "#f0f921"
             ]
            ],
            "type": "histogram2d"
           }
          ],
          "histogram2dcontour": [
           {
            "colorbar": {
             "outlinewidth": 0,
             "ticks": ""
            },
            "colorscale": [
             [
              0,
              "#0d0887"
             ],
             [
              0.1111111111111111,
              "#46039f"
             ],
             [
              0.2222222222222222,
              "#7201a8"
             ],
             [
              0.3333333333333333,
              "#9c179e"
             ],
             [
              0.4444444444444444,
              "#bd3786"
             ],
             [
              0.5555555555555556,
              "#d8576b"
             ],
             [
              0.6666666666666666,
              "#ed7953"
             ],
             [
              0.7777777777777778,
              "#fb9f3a"
             ],
             [
              0.8888888888888888,
              "#fdca26"
             ],
             [
              1,
              "#f0f921"
             ]
            ],
            "type": "histogram2dcontour"
           }
          ],
          "mesh3d": [
           {
            "colorbar": {
             "outlinewidth": 0,
             "ticks": ""
            },
            "type": "mesh3d"
           }
          ],
          "parcoords": [
           {
            "line": {
             "colorbar": {
              "outlinewidth": 0,
              "ticks": ""
             }
            },
            "type": "parcoords"
           }
          ],
          "pie": [
           {
            "automargin": true,
            "type": "pie"
           }
          ],
          "scatter": [
           {
            "fillpattern": {
             "fillmode": "overlay",
             "size": 10,
             "solidity": 0.2
            },
            "type": "scatter"
           }
          ],
          "scatter3d": [
           {
            "line": {
             "colorbar": {
              "outlinewidth": 0,
              "ticks": ""
             }
            },
            "marker": {
             "colorbar": {
              "outlinewidth": 0,
              "ticks": ""
             }
            },
            "type": "scatter3d"
           }
          ],
          "scattercarpet": [
           {
            "marker": {
             "colorbar": {
              "outlinewidth": 0,
              "ticks": ""
             }
            },
            "type": "scattercarpet"
           }
          ],
          "scattergeo": [
           {
            "marker": {
             "colorbar": {
              "outlinewidth": 0,
              "ticks": ""
             }
            },
            "type": "scattergeo"
           }
          ],
          "scattergl": [
           {
            "marker": {
             "colorbar": {
              "outlinewidth": 0,
              "ticks": ""
             }
            },
            "type": "scattergl"
           }
          ],
          "scattermapbox": [
           {
            "marker": {
             "colorbar": {
              "outlinewidth": 0,
              "ticks": ""
             }
            },
            "type": "scattermapbox"
           }
          ],
          "scatterpolar": [
           {
            "marker": {
             "colorbar": {
              "outlinewidth": 0,
              "ticks": ""
             }
            },
            "type": "scatterpolar"
           }
          ],
          "scatterpolargl": [
           {
            "marker": {
             "colorbar": {
              "outlinewidth": 0,
              "ticks": ""
             }
            },
            "type": "scatterpolargl"
           }
          ],
          "scatterternary": [
           {
            "marker": {
             "colorbar": {
              "outlinewidth": 0,
              "ticks": ""
             }
            },
            "type": "scatterternary"
           }
          ],
          "surface": [
           {
            "colorbar": {
             "outlinewidth": 0,
             "ticks": ""
            },
            "colorscale": [
             [
              0,
              "#0d0887"
             ],
             [
              0.1111111111111111,
              "#46039f"
             ],
             [
              0.2222222222222222,
              "#7201a8"
             ],
             [
              0.3333333333333333,
              "#9c179e"
             ],
             [
              0.4444444444444444,
              "#bd3786"
             ],
             [
              0.5555555555555556,
              "#d8576b"
             ],
             [
              0.6666666666666666,
              "#ed7953"
             ],
             [
              0.7777777777777778,
              "#fb9f3a"
             ],
             [
              0.8888888888888888,
              "#fdca26"
             ],
             [
              1,
              "#f0f921"
             ]
            ],
            "type": "surface"
           }
          ],
          "table": [
           {
            "cells": {
             "fill": {
              "color": "#EBF0F8"
             },
             "line": {
              "color": "white"
             }
            },
            "header": {
             "fill": {
              "color": "#C8D4E3"
             },
             "line": {
              "color": "white"
             }
            },
            "type": "table"
           }
          ]
         },
         "layout": {
          "annotationdefaults": {
           "arrowcolor": "#2a3f5f",
           "arrowhead": 0,
           "arrowwidth": 1
          },
          "autotypenumbers": "strict",
          "coloraxis": {
           "colorbar": {
            "outlinewidth": 0,
            "ticks": ""
           }
          },
          "colorscale": {
           "diverging": [
            [
             0,
             "#8e0152"
            ],
            [
             0.1,
             "#c51b7d"
            ],
            [
             0.2,
             "#de77ae"
            ],
            [
             0.3,
             "#f1b6da"
            ],
            [
             0.4,
             "#fde0ef"
            ],
            [
             0.5,
             "#f7f7f7"
            ],
            [
             0.6,
             "#e6f5d0"
            ],
            [
             0.7,
             "#b8e186"
            ],
            [
             0.8,
             "#7fbc41"
            ],
            [
             0.9,
             "#4d9221"
            ],
            [
             1,
             "#276419"
            ]
           ],
           "sequential": [
            [
             0,
             "#0d0887"
            ],
            [
             0.1111111111111111,
             "#46039f"
            ],
            [
             0.2222222222222222,
             "#7201a8"
            ],
            [
             0.3333333333333333,
             "#9c179e"
            ],
            [
             0.4444444444444444,
             "#bd3786"
            ],
            [
             0.5555555555555556,
             "#d8576b"
            ],
            [
             0.6666666666666666,
             "#ed7953"
            ],
            [
             0.7777777777777778,
             "#fb9f3a"
            ],
            [
             0.8888888888888888,
             "#fdca26"
            ],
            [
             1,
             "#f0f921"
            ]
           ],
           "sequentialminus": [
            [
             0,
             "#0d0887"
            ],
            [
             0.1111111111111111,
             "#46039f"
            ],
            [
             0.2222222222222222,
             "#7201a8"
            ],
            [
             0.3333333333333333,
             "#9c179e"
            ],
            [
             0.4444444444444444,
             "#bd3786"
            ],
            [
             0.5555555555555556,
             "#d8576b"
            ],
            [
             0.6666666666666666,
             "#ed7953"
            ],
            [
             0.7777777777777778,
             "#fb9f3a"
            ],
            [
             0.8888888888888888,
             "#fdca26"
            ],
            [
             1,
             "#f0f921"
            ]
           ]
          },
          "colorway": [
           "#636efa",
           "#EF553B",
           "#00cc96",
           "#ab63fa",
           "#FFA15A",
           "#19d3f3",
           "#FF6692",
           "#B6E880",
           "#FF97FF",
           "#FECB52"
          ],
          "font": {
           "color": "#2a3f5f"
          },
          "geo": {
           "bgcolor": "white",
           "lakecolor": "white",
           "landcolor": "#E5ECF6",
           "showlakes": true,
           "showland": true,
           "subunitcolor": "white"
          },
          "hoverlabel": {
           "align": "left"
          },
          "hovermode": "closest",
          "mapbox": {
           "style": "light"
          },
          "paper_bgcolor": "white",
          "plot_bgcolor": "#E5ECF6",
          "polar": {
           "angularaxis": {
            "gridcolor": "white",
            "linecolor": "white",
            "ticks": ""
           },
           "bgcolor": "#E5ECF6",
           "radialaxis": {
            "gridcolor": "white",
            "linecolor": "white",
            "ticks": ""
           }
          },
          "scene": {
           "xaxis": {
            "backgroundcolor": "#E5ECF6",
            "gridcolor": "white",
            "gridwidth": 2,
            "linecolor": "white",
            "showbackground": true,
            "ticks": "",
            "zerolinecolor": "white"
           },
           "yaxis": {
            "backgroundcolor": "#E5ECF6",
            "gridcolor": "white",
            "gridwidth": 2,
            "linecolor": "white",
            "showbackground": true,
            "ticks": "",
            "zerolinecolor": "white"
           },
           "zaxis": {
            "backgroundcolor": "#E5ECF6",
            "gridcolor": "white",
            "gridwidth": 2,
            "linecolor": "white",
            "showbackground": true,
            "ticks": "",
            "zerolinecolor": "white"
           }
          },
          "shapedefaults": {
           "line": {
            "color": "#2a3f5f"
           }
          },
          "ternary": {
           "aaxis": {
            "gridcolor": "white",
            "linecolor": "white",
            "ticks": ""
           },
           "baxis": {
            "gridcolor": "white",
            "linecolor": "white",
            "ticks": ""
           },
           "bgcolor": "#E5ECF6",
           "caxis": {
            "gridcolor": "white",
            "linecolor": "white",
            "ticks": ""
           }
          },
          "title": {
           "x": 0.05
          },
          "xaxis": {
           "automargin": true,
           "gridcolor": "white",
           "linecolor": "white",
           "ticks": "",
           "title": {
            "standoff": 15
           },
           "zerolinecolor": "white",
           "zerolinewidth": 2
          },
          "yaxis": {
           "automargin": true,
           "gridcolor": "white",
           "linecolor": "white",
           "ticks": "",
           "title": {
            "standoff": 15
           },
           "zerolinecolor": "white",
           "zerolinewidth": 2
          }
         }
        },
        "width": 1450,
        "xaxis": {
         "anchor": "y",
         "domain": [
          0,
          1
         ],
         "dtick": 1,
         "nticks": 8,
         "tick0": 2018,
         "tickfont": {
          "size": 18
         },
         "tickmode": "linear",
         "title": {
          "font": {
           "size": 18
          },
          "text": "Publication year"
         }
        },
        "yaxis": {
         "anchor": "x",
         "domain": [
          0,
          1
         ],
         "dtick": 1,
         "nticks": 7,
         "tick0": 2,
         "tickfont": {
          "size": 18
         },
         "tickmode": "linear",
         "title": {
          "font": {
           "size": 18
          },
          "text": "Number of Questions (log)"
         },
         "type": "log"
        }
       }
      }
     },
     "metadata": {},
     "output_type": "display_data"
    }
   ],
   "source": [
    "import plotly.express as px\n",
    "import pandas as pd\n",
    "\n",
    "# Given meta-dataset\n",
    "meta_dataset = [\n",
    "    {\"name\": \"QALD-3\", \"year\": 2013, \"numOfQuestions\": 199, \"numOfLanguages\": 6, \"textposition\": \"top center\"},\n",
    "    {\"name\": \"QALD-6\", \"year\": 2016, \"numOfQuestions\": 450, \"numOfLanguages\": 8, \"textposition\": \"top center\"},\n",
    "    {\"name\": \"QALD-7\", \"year\": 2017, \"numOfQuestions\": 258, \"numOfLanguages\": 6, \"textposition\": \"top center\"},\n",
    "    {\"name\": \"QALD-8\", \"year\": 2018, \"numOfQuestions\": 260, \"numOfLanguages\": 6, \"textposition\": \"bottom center\"},\n",
    "    {\"name\": \"QALD-9\", \"year\": 2018, \"numOfQuestions\": 558, \"numOfLanguages\": 11, \"textposition\": \"top center\"},\n",
    "    {\"name\": \"QALD-9-plus\", \"year\": 2022, \"numOfQuestions\": 558, \"numOfLanguages\": 9, \"textposition\": \"top center\"},\n",
    "    {\"name\": \"rewordQALD9\", \"year\": 2022, \"numOfQuestions\": 558, \"numOfLanguages\": 2, \"textposition\": \"bottom center\"},\n",
    "    {\"name\": \"QALD10\", \"year\": 2023, \"numOfQuestions\": 909, \"numOfLanguages\": 4, \"textposition\": \"top center\"},\n",
    "    {\"name\": \"EventQA\", \"year\": 2020, \"numOfQuestions\": 1000, \"numOfLanguages\": 3, \"textposition\": \"bottom center\"},\n",
    "    {\"name\": \"RuBQ 1.0\", \"year\": 2020, \"numOfQuestions\": 1500, \"numOfLanguages\": 2, \"textposition\": \"top center\"},\n",
    "    {\"name\": \"RuBQ 2.0\", \"year\": 2021, \"numOfQuestions\": 2910, \"numOfLanguages\": 2, \"textposition\": \"top center\"},\n",
    "    {\"name\": \"MCWQ\", \"year\": 2022, \"numOfQuestions\": 124187, \"numOfLanguages\": 4, \"textposition\": \"top center\"},\n",
    "    {\"name\": \"Mintaka\", \"year\": 2022, \"numOfQuestions\": 20000, \"numOfLanguages\": 9, \"textposition\": \"top center\"},\n",
    "    {\"name\": \"MLPQ\", \"year\": 2023, \"numOfQuestions\": 300000, \"numOfLanguages\": 3, \"textposition\": \"top center\"}\n",
    "]\n",
    "\n",
    "# Convert meta-dataset to a pandas DataFrame\n",
    "df = pd.DataFrame(meta_dataset)\n",
    "\n",
    "# Create the bubble chart\n",
    "fig = px.scatter(df, x=\"year\", y=\"numOfQuestions\", text=\"name\", size=\"numOfLanguages\", color=\"numOfLanguages\", hover_name=\"name\",\n",
    "                 labels={\"year\": \"Publication year\", \"numOfLanguages\": \"# of Languages\", \"numOfQuestions\": \"Number of Questions (log)\"}, width=1450, height=600)\n",
    "\n",
    "\n",
    "# fig.add_annotation(text=\"Graeco-Phrygian\", xanchor=\"left\", x=0.7, y=0.323, ax=190, ay=58)\n",
    "# fig.add_annotation(text=\"Armenian\", xanchor=\"left\", x=0.68, y=0.295, ax=190, ay=98)\n",
    "\n",
    "# Set x and y-axis as integers\n",
    "fig.update_xaxes(nticks=len(df[\"year\"].unique()))\n",
    "fig.update_yaxes(nticks=len(df[\"numOfLanguages\"].unique()))\n",
    "\n",
    "fig.update_xaxes(tickmode = 'linear', tick0 = 2018, dtick = 1)  \n",
    "fig.update_yaxes(tickmode = 'linear', tick0 = 2, dtick = 1)  \n",
    "fig.update_layout(yaxis_type=\"log\", font=dict(size=20, family=\"Times New Roman\", color='black'))\n",
    "# fig.update_traces(textposition=\"top center\", textfont=dict(color=\"black\"))\n",
    "fig.update_traces(\n",
    "    textposition=df[\"textposition\"],\n",
    "    textfont=dict(color=\"black\"),\n",
    "    mode='markers+text',\n",
    "    textfont_size=18,\n",
    "    texttemplate='%{text}'\n",
    ")\n",
    "\n",
    "fig.update_xaxes(title_font=dict(size=18), tickfont=dict(size=18))\n",
    "fig.update_yaxes(title_font=dict(size=18), tickfont=dict(size=18))\n",
    "\n",
    "# Show the bubble chart\n",
    "fig.show()\n",
    "fig.write_image(\"../data/img/benchmark-stats.pdf\")"
   ]
  },
  {
   "cell_type": "code",
   "execution_count": 15,
   "metadata": {},
   "outputs": [
    {
     "data": {
      "text/plain": [
       "{'name': 'rewordQALD9'}"
      ]
     },
     "execution_count": 15,
     "metadata": {},
     "output_type": "execute_result"
    }
   ],
   "source": [
    "dict(name=bubble_name)"
   ]
  },
  {
   "cell_type": "code",
   "execution_count": 25,
   "metadata": {},
   "outputs": [
    {
     "name": "stdout",
     "output_type": "stream",
     "text": [
      "Scatter({\n",
      "    'hovertemplate': ('<b>%{hovertext}</b><br><br>Pub' ... 'br>name=%{text}<extra></extra>'),\n",
      "    'hovertext': array(['QALD-3', 'QALD-6', 'QALD-7', 'QALD-8', 'QALD-9', 'QALD-9-plus',\n",
      "                        'rewordQALD9', 'QALD10', 'EventQA', 'RuBQ 1.0', 'RuBQ 2.0', 'MCWQ',\n",
      "                        'Mintaka', 'MLPQ'], dtype=object),\n",
      "    'legendgroup': '',\n",
      "    'marker': {'color': array([ 6,  8,  6,  6, 11,  9,  2,  4,  3,  2,  2,  4,  9,  3]),\n",
      "               'coloraxis': 'coloraxis',\n",
      "               'size': array([ 6,  8,  6,  6, 11,  9,  2,  4,  3,  2,  2,  4,  9,  3]),\n",
      "               'sizemode': 'area',\n",
      "               'sizeref': 0.0275,\n",
      "               'symbol': 'circle'},\n",
      "    'mode': 'markers+text',\n",
      "    'name': '',\n",
      "    'orientation': 'v',\n",
      "    'showlegend': False,\n",
      "    'text': array(['QALD-3', 'QALD-6', 'QALD-7', 'QALD-8', 'QALD-9', 'QALD-9-plus',\n",
      "                   'rewordQALD9', 'QALD10', 'EventQA', 'RuBQ 1.0', 'RuBQ 2.0', 'MCWQ',\n",
      "                   'Mintaka', 'MLPQ'], dtype=object),\n",
      "    'textfont': {'color': 'black', 'size': 16},\n",
      "    'textposition': 'top center',\n",
      "    'texttemplate': '%{text}',\n",
      "    'x': array([2013, 2016, 2017, 2018, 2018, 2022, 2022, 2023, 2020, 2020, 2021, 2022,\n",
      "                2022, 2023]),\n",
      "    'xaxis': 'x',\n",
      "    'y': array([   199,    450,    258,    260,    558,    558,    558,    909,   1000,\n",
      "                  1500,   2910, 124187,  20000, 300000]),\n",
      "    'yaxis': 'y'\n",
      "})\n"
     ]
    }
   ],
   "source": [
    "for trace in fig.select_traces():\n",
    "    print(trace)"
   ]
  },
  {
   "cell_type": "code",
   "execution_count": null,
   "metadata": {},
   "outputs": [],
   "source": []
  }
 ],
 "metadata": {
  "kernelspec": {
   "display_name": "Python 3",
   "language": "python",
   "name": "python3"
  },
  "language_info": {
   "codemirror_mode": {
    "name": "ipython",
    "version": 3
   },
   "file_extension": ".py",
   "mimetype": "text/x-python",
   "name": "python",
   "nbconvert_exporter": "python",
   "pygments_lexer": "ipython3",
   "version": "3.8.10"
  },
  "orig_nbformat": 4
 },
 "nbformat": 4,
 "nbformat_minor": 2
}
