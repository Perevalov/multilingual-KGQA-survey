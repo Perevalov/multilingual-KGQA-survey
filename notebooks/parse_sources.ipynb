{
 "cells": [
  {
   "cell_type": "code",
   "execution_count": 1,
   "metadata": {},
   "outputs": [
    {
     "name": "stderr",
     "output_type": "stream",
     "text": [
      "/usr/lib/python3/dist-packages/requests/__init__.py:89: RequestsDependencyWarning: urllib3 (1.26.9) or chardet (3.0.4) doesn't match a supported version!\n",
      "  warnings.warn(\"urllib3 ({}) or chardet ({}) doesn't match a supported \"\n"
     ]
    }
   ],
   "source": [
    "import requests\n",
    "import json\n",
    "import pandas as pd\n",
    "from bs4 import BeautifulSoup\n",
    "import bibtexparser\n",
    "import tqdm"
   ]
  },
  {
   "cell_type": "code",
   "execution_count": 2,
   "metadata": {},
   "outputs": [],
   "source": [
    "def read_json(path):\n",
    "    with open(path) as f:\n",
    "        return json.load(f)"
   ]
  },
  {
   "cell_type": "markdown",
   "metadata": {},
   "source": [
    "# IEEE Xplore"
   ]
  },
  {
   "cell_type": "code",
   "execution_count": 18,
   "metadata": {},
   "outputs": [],
   "source": [
    "ieee_path = \"../data/literature_search/raw/ieeeXplore-raw.json\""
   ]
  },
  {
   "cell_type": "code",
   "execution_count": 19,
   "metadata": {},
   "outputs": [],
   "source": [
    "ieee_raw = read_json(ieee_path)"
   ]
  },
  {
   "cell_type": "code",
   "execution_count": 21,
   "metadata": {},
   "outputs": [
    {
     "data": {
      "text/plain": [
       "dict_keys(['authors', 'patentCitationCount', 'accessType', 'publicationYear', 'publicationNumber', 'documentLink', 'articleNumber', 'doi', 'citationCount', 'isNumber', 'publicationLink', 'ephemera', 'vj', 'pdfSize', 'startPage', 'endPage', 'publicationDate', 'rightslinkFlag', 'rightsLink', 'articleTitle', 'downloadCount', 'htmlLink', 'citationsLink', 'showHtml', 'graphicalAbstract', 'showAlgorithm', 'showDataset', 'showVideo', 'publisher', 'redline', 'showCheckbox', 'handleProduct', 'contentType', 'publicationTitle', 'displayPublicationTitle', 'abstract', 'articleContentType', 'pdfLink', 'highlightedTitle', 'isStandard', 'isConference', 'isJournalAndMagazine', 'isEarlyAccess', 'isMagazine', 'isJournal', 'isBook', 'course', 'isBookWithoutChapters', 'docIdentifier', 'displayContentType'])"
      ]
     },
     "execution_count": 21,
     "metadata": {},
     "output_type": "execute_result"
    }
   ],
   "source": [
    "ieee_raw['records'][0].keys()"
   ]
  },
  {
   "cell_type": "code",
   "execution_count": 37,
   "metadata": {},
   "outputs": [],
   "source": [
    "authors, titles, abstracts, publication_years, dois, pdfs, citation_cnts, urls = [], [], [], [], [], [], [], []\n",
    "for record in ieee_raw['records']:\n",
    "    authors.append('; '.join(a['preferredName'] for a in record['authors']))\n",
    "    titles.append(record['articleTitle'])\n",
    "    abstracts.append(record['abstract'])\n",
    "    publication_years.append(record['publicationYear'])\n",
    "    dois.append(('https://doi.org/' + record['doi']) if 'doi' in record.keys() else None)\n",
    "    pdfs.append('https://ieeexplore.ieee.org' + record['pdfLink'])\n",
    "    citation_cnts.append(record['citationCount'])\n",
    "    urls.append('https://ieeexplore.ieee.org' + record['htmlLink'])"
   ]
  },
  {
   "cell_type": "code",
   "execution_count": 38,
   "metadata": {},
   "outputs": [],
   "source": [
    "ieee_df = pd.DataFrame.from_dict({\n",
    "    'authors': authors,\n",
    "    'title': titles,\n",
    "    'abstract': abstracts,\n",
    "    'publication_year': publication_years,\n",
    "    'doi': dois,\n",
    "    'pdf': pdfs,\n",
    "    'citation_cnt': citation_cnts,\n",
    "    'url': urls\n",
    "})"
   ]
  },
  {
   "cell_type": "code",
   "execution_count": 39,
   "metadata": {},
   "outputs": [
    {
     "data": {
      "text/html": [
       "<div>\n",
       "<style scoped>\n",
       "    .dataframe tbody tr th:only-of-type {\n",
       "        vertical-align: middle;\n",
       "    }\n",
       "\n",
       "    .dataframe tbody tr th {\n",
       "        vertical-align: top;\n",
       "    }\n",
       "\n",
       "    .dataframe thead th {\n",
       "        text-align: right;\n",
       "    }\n",
       "</style>\n",
       "<table border=\"1\" class=\"dataframe\">\n",
       "  <thead>\n",
       "    <tr style=\"text-align: right;\">\n",
       "      <th></th>\n",
       "      <th>authors</th>\n",
       "      <th>title</th>\n",
       "      <th>abstract</th>\n",
       "      <th>publication_year</th>\n",
       "      <th>doi</th>\n",
       "      <th>pdf</th>\n",
       "      <th>citation_cnt</th>\n",
       "      <th>url</th>\n",
       "    </tr>\n",
       "  </thead>\n",
       "  <tbody>\n",
       "    <tr>\n",
       "      <th>0</th>\n",
       "      <td>Elizaveta Zimina; Jyrki Nummenmaa; Kalervo Jar...</td>\n",
       "      <td>MuG-QA: Multilingual Grammatical Question Answ...</td>\n",
       "      <td>We introduce [::Multilingual::] Grammatical [:...</td>\n",
       "      <td>2018</td>\n",
       "      <td>https://doi.org/10.1109/PIC.2018.8706310</td>\n",
       "      <td>https://ieeexplore.ieee.org/stamp/stamp.jsp?tp...</td>\n",
       "      <td>1</td>\n",
       "      <td>https://ieeexplore.ieee.org/document/8706310/</td>\n",
       "    </tr>\n",
       "    <tr>\n",
       "      <th>1</th>\n",
       "      <td>Xiangzhou Huang; Baogang Wei; Yin Zhang</td>\n",
       "      <td>Automatic Question-Answering Based on Wikipedi...</td>\n",
       "      <td>The [::question-answering::] ([::QA::]) system...</td>\n",
       "      <td>2015</td>\n",
       "      <td>https://doi.org/10.1109/ISKE.2015.78</td>\n",
       "      <td>https://ieeexplore.ieee.org/stamp/stamp.jsp?tp...</td>\n",
       "      <td>3</td>\n",
       "      <td>https://ieeexplore.ieee.org/document/7383065/</td>\n",
       "    </tr>\n",
       "    <tr>\n",
       "      <th>2</th>\n",
       "      <td>Aleksandr Perevalov; Dennis Diefenbach; Ricard...</td>\n",
       "      <td>QALD-9-plus: A Multilingual Dataset for Questi...</td>\n",
       "      <td>The ability to have the same experience for di...</td>\n",
       "      <td>2022</td>\n",
       "      <td>https://doi.org/10.1109/ICSC52841.2022.00045</td>\n",
       "      <td>https://ieeexplore.ieee.org/stamp/stamp.jsp?tp...</td>\n",
       "      <td>0</td>\n",
       "      <td>https://ieeexplore.ieee.org/document/9736271/</td>\n",
       "    </tr>\n",
       "    <tr>\n",
       "      <th>3</th>\n",
       "      <td>Bo Liu; Li-Ming Zhan; Li Xu; Lin Ma; Yan Yang;...</td>\n",
       "      <td>Slake: A Semantically-Labeled Knowledge-Enhanc...</td>\n",
       "      <td>Medical visual [::question answering::] (Med-V...</td>\n",
       "      <td>2021</td>\n",
       "      <td>https://doi.org/10.1109/ISBI48211.2021.9434010</td>\n",
       "      <td>https://ieeexplore.ieee.org/stamp/stamp.jsp?tp...</td>\n",
       "      <td>1</td>\n",
       "      <td>https://ieeexplore.ieee.org/document/9434010/</td>\n",
       "    </tr>\n",
       "    <tr>\n",
       "      <th>4</th>\n",
       "      <td>Santosh K. Ray; Khaled Shaalan</td>\n",
       "      <td>A Review and Future Perspectives of Arabic Que...</td>\n",
       "      <td>[::Question Answering::] Systems (QASs) have e...</td>\n",
       "      <td>2016</td>\n",
       "      <td>https://doi.org/10.1109/TKDE.2016.2607201</td>\n",
       "      <td>https://ieeexplore.ieee.org/stamp/stamp.jsp?tp...</td>\n",
       "      <td>25</td>\n",
       "      <td>https://ieeexplore.ieee.org/document/7563293/</td>\n",
       "    </tr>\n",
       "  </tbody>\n",
       "</table>\n",
       "</div>"
      ],
      "text/plain": [
       "                                             authors  \\\n",
       "0  Elizaveta Zimina; Jyrki Nummenmaa; Kalervo Jar...   \n",
       "1            Xiangzhou Huang; Baogang Wei; Yin Zhang   \n",
       "2  Aleksandr Perevalov; Dennis Diefenbach; Ricard...   \n",
       "3  Bo Liu; Li-Ming Zhan; Li Xu; Lin Ma; Yan Yang;...   \n",
       "4                     Santosh K. Ray; Khaled Shaalan   \n",
       "\n",
       "                                               title  \\\n",
       "0  MuG-QA: Multilingual Grammatical Question Answ...   \n",
       "1  Automatic Question-Answering Based on Wikipedi...   \n",
       "2  QALD-9-plus: A Multilingual Dataset for Questi...   \n",
       "3  Slake: A Semantically-Labeled Knowledge-Enhanc...   \n",
       "4  A Review and Future Perspectives of Arabic Que...   \n",
       "\n",
       "                                            abstract publication_year  \\\n",
       "0  We introduce [::Multilingual::] Grammatical [:...             2018   \n",
       "1  The [::question-answering::] ([::QA::]) system...             2015   \n",
       "2  The ability to have the same experience for di...             2022   \n",
       "3  Medical visual [::question answering::] (Med-V...             2021   \n",
       "4  [::Question Answering::] Systems (QASs) have e...             2016   \n",
       "\n",
       "                                              doi  \\\n",
       "0        https://doi.org/10.1109/PIC.2018.8706310   \n",
       "1            https://doi.org/10.1109/ISKE.2015.78   \n",
       "2    https://doi.org/10.1109/ICSC52841.2022.00045   \n",
       "3  https://doi.org/10.1109/ISBI48211.2021.9434010   \n",
       "4       https://doi.org/10.1109/TKDE.2016.2607201   \n",
       "\n",
       "                                                 pdf  citation_cnt  \\\n",
       "0  https://ieeexplore.ieee.org/stamp/stamp.jsp?tp...             1   \n",
       "1  https://ieeexplore.ieee.org/stamp/stamp.jsp?tp...             3   \n",
       "2  https://ieeexplore.ieee.org/stamp/stamp.jsp?tp...             0   \n",
       "3  https://ieeexplore.ieee.org/stamp/stamp.jsp?tp...             1   \n",
       "4  https://ieeexplore.ieee.org/stamp/stamp.jsp?tp...            25   \n",
       "\n",
       "                                             url  \n",
       "0  https://ieeexplore.ieee.org/document/8706310/  \n",
       "1  https://ieeexplore.ieee.org/document/7383065/  \n",
       "2  https://ieeexplore.ieee.org/document/9736271/  \n",
       "3  https://ieeexplore.ieee.org/document/9434010/  \n",
       "4  https://ieeexplore.ieee.org/document/7563293/  "
      ]
     },
     "execution_count": 39,
     "metadata": {},
     "output_type": "execute_result"
    }
   ],
   "source": [
    "ieee_df.head()"
   ]
  },
  {
   "cell_type": "code",
   "execution_count": 40,
   "metadata": {},
   "outputs": [],
   "source": [
    "ieee_df.to_csv('../data/literature_search/ieee.csv', index=False)"
   ]
  },
  {
   "cell_type": "markdown",
   "metadata": {},
   "source": [
    "# ACM DL"
   ]
  },
  {
   "cell_type": "code",
   "execution_count": 48,
   "metadata": {},
   "outputs": [],
   "source": [
    "with open('../data/literature_search/raw/acm-dl.bib') as bibtex_file:\n",
    "    bib_database = bibtexparser.load(bibtex_file)"
   ]
  },
  {
   "cell_type": "code",
   "execution_count": 50,
   "metadata": {},
   "outputs": [
    {
     "data": {
      "text/plain": [
       "dict_keys(['series', 'location', 'keywords', 'numpages', 'pages', 'booktitle', 'abstract', 'doi', 'url', 'address', 'publisher', 'isbn', 'year', 'title', 'author', 'ENTRYTYPE', 'ID'])"
      ]
     },
     "execution_count": 50,
     "metadata": {},
     "output_type": "execute_result"
    }
   ],
   "source": [
    "bib_database.entries[0].keys()"
   ]
  },
  {
   "cell_type": "code",
   "execution_count": 52,
   "metadata": {},
   "outputs": [
    {
     "data": {
      "text/plain": [
       "'10.1145/3106426.3106514'"
      ]
     },
     "execution_count": 52,
     "metadata": {},
     "output_type": "execute_result"
    }
   ],
   "source": [
    "bib_database.entries[0]['doi']"
   ]
  },
  {
   "cell_type": "code",
   "execution_count": 58,
   "metadata": {},
   "outputs": [],
   "source": [
    "authors, titles, abstracts, publication_years, dois, citation_cnts, urls = [], [], [], [], [], [], []\n",
    "for record in bib_database.entries:\n",
    "    authors.append(record['author'] if 'author' in record.keys() else None)\n",
    "    titles.append(record['title'] if 'title' in record.keys() else None)\n",
    "    abstracts.append(record['abstract'] if 'abstract' in record.keys() else None)\n",
    "    publication_years.append(record['year'])\n",
    "    dois.append(('https://doi.org/' + record['doi']) if 'doi' in record.keys() else None)\n",
    "    urls.append(record['url'] if 'url' in record.keys() else None)"
   ]
  },
  {
   "cell_type": "code",
   "execution_count": 59,
   "metadata": {},
   "outputs": [],
   "source": [
    "acm_df = pd.DataFrame.from_dict({\n",
    "    'authors': authors,\n",
    "    'title': titles,\n",
    "    'abstract': abstracts,\n",
    "    'publication_year': publication_years,\n",
    "    'doi': dois,\n",
    "    'url': urls\n",
    "})"
   ]
  },
  {
   "cell_type": "code",
   "execution_count": 60,
   "metadata": {},
   "outputs": [],
   "source": [
    "acm_df.to_csv('../data/literature_search/acm.csv', index=False)"
   ]
  },
  {
   "cell_type": "markdown",
   "metadata": {},
   "source": [
    "# Springer"
   ]
  },
  {
   "cell_type": "code",
   "execution_count": 61,
   "metadata": {},
   "outputs": [],
   "source": [
    "springer_chapter = pd.read_csv('../data/literature_search/raw/springer-chapter.csv')\n",
    "springer_article = pd.read_csv('../data/literature_search/raw/springer-article.csv')"
   ]
  },
  {
   "cell_type": "code",
   "execution_count": 72,
   "metadata": {},
   "outputs": [
    {
     "data": {
      "text/plain": [
       "((1000, 10), (356, 10))"
      ]
     },
     "execution_count": 72,
     "metadata": {},
     "output_type": "execute_result"
    }
   ],
   "source": [
    "springer_chapter.shape, springer_article.shape"
   ]
  },
  {
   "cell_type": "code",
   "execution_count": 67,
   "metadata": {},
   "outputs": [],
   "source": [
    "authors = springer_chapter['Authors'].to_list() + springer_article['Authors'].to_list()\n",
    "titles = springer_chapter['Item Title'].to_list() + springer_article['Item Title'].to_list()\n",
    "publication_years = springer_chapter['Publication Year'].to_list() + springer_article['Publication Year'].to_list()\n",
    "dois = ['https://doi.org/' + d for d in springer_chapter['Item DOI'].to_list() + springer_article['Item DOI'].to_list()]\n",
    "urls = springer_chapter['URL'].to_list() + springer_article['URL'].to_list()"
   ]
  },
  {
   "cell_type": "code",
   "execution_count": 68,
   "metadata": {},
   "outputs": [],
   "source": [
    "springer_df = pd.DataFrame.from_dict({\n",
    "    'authors': authors,\n",
    "    'title': titles,\n",
    "    'publication_year': publication_years,\n",
    "    'doi': dois,\n",
    "    'url': urls\n",
    "})"
   ]
  },
  {
   "cell_type": "code",
   "execution_count": 69,
   "metadata": {},
   "outputs": [],
   "source": [
    "springer_df.to_csv('../data/literature_search/springer.csv', index=False)"
   ]
  },
  {
   "cell_type": "markdown",
   "metadata": {},
   "source": [
    "## German Springer"
   ]
  },
  {
   "cell_type": "code",
   "execution_count": 4,
   "metadata": {},
   "outputs": [],
   "source": [
    "springer_chapter = pd.read_csv('../data/literature_search/raw/springer-chapter-de.csv')\n",
    "springer_article = pd.read_csv('../data/literature_search/raw/springer-article-de.csv')"
   ]
  },
  {
   "cell_type": "code",
   "execution_count": 5,
   "metadata": {},
   "outputs": [],
   "source": [
    "authors = springer_chapter['Authors'].to_list() + springer_article['Authors'].to_list()\n",
    "titles = springer_chapter['Item Title'].to_list() + springer_article['Item Title'].to_list()\n",
    "publication_years = springer_chapter['Publication Year'].to_list() + springer_article['Publication Year'].to_list()\n",
    "dois = ['https://doi.org/' + d for d in springer_chapter['Item DOI'].to_list() + springer_article['Item DOI'].to_list()]\n",
    "urls = springer_chapter['URL'].to_list() + springer_article['URL'].to_list()"
   ]
  },
  {
   "cell_type": "code",
   "execution_count": 6,
   "metadata": {},
   "outputs": [],
   "source": [
    "springer_df = pd.DataFrame.from_dict({\n",
    "    'authors': authors,\n",
    "    'title': titles,\n",
    "    'publication_year': publication_years,\n",
    "    'doi': dois,\n",
    "    'url': urls\n",
    "})"
   ]
  },
  {
   "cell_type": "code",
   "execution_count": 7,
   "metadata": {},
   "outputs": [],
   "source": [
    "springer_df.to_csv('../data/literature_search/springer-de.csv', index=False)"
   ]
  },
  {
   "cell_type": "markdown",
   "metadata": {},
   "source": [
    "# DBLP"
   ]
  },
  {
   "cell_type": "code",
   "execution_count": 73,
   "metadata": {},
   "outputs": [],
   "source": [
    "with open('../data/literature_search/raw/dblp-raw.bib') as bibtex_file:\n",
    "    bib_database = bibtexparser.load(bibtex_file)"
   ]
  },
  {
   "cell_type": "code",
   "execution_count": 74,
   "metadata": {},
   "outputs": [],
   "source": [
    "authors, titles, abstracts, publication_years, dois, citation_cnts, urls = [], [], [], [], [], [], []\n",
    "for record in bib_database.entries:\n",
    "    authors.append(record['author'] if 'author' in record.keys() else None)\n",
    "    titles.append(record['title'] if 'title' in record.keys() else None)\n",
    "    abstracts.append(record['abstract'] if 'abstract' in record.keys() else None)\n",
    "    publication_years.append(record['year'])\n",
    "    dois.append(('https://doi.org/' + record['doi']) if 'doi' in record.keys() else None)\n",
    "    urls.append(record['url'] if 'url' in record.keys() else None)"
   ]
  },
  {
   "cell_type": "code",
   "execution_count": 75,
   "metadata": {},
   "outputs": [],
   "source": [
    "dblp_df = pd.DataFrame.from_dict({\n",
    "    'authors': authors,\n",
    "    'title': titles,\n",
    "    'abstract': abstracts,\n",
    "    'publication_year': publication_years,\n",
    "    'doi': dois,\n",
    "    'url': urls\n",
    "})"
   ]
  },
  {
   "cell_type": "code",
   "execution_count": 76,
   "metadata": {},
   "outputs": [],
   "source": [
    "dblp_df.to_csv('../data/literature_search/dblp.csv', index=False)"
   ]
  },
  {
   "cell_type": "markdown",
   "metadata": {},
   "source": [
    "# Cyberleninka"
   ]
  },
  {
   "cell_type": "code",
   "execution_count": 3,
   "metadata": {},
   "outputs": [],
   "source": [
    "cyberleninka_raw = read_json(\"../data/literature_search/raw/cyberleninka-raw-2.json\")"
   ]
  },
  {
   "cell_type": "code",
   "execution_count": 4,
   "metadata": {},
   "outputs": [
    {
     "data": {
      "text/plain": [
       "dict_keys(['name', 'annotation', 'link', 'authors', 'year', 'journal', 'journal_link', 'ocr', 'catalogs'])"
      ]
     },
     "execution_count": 4,
     "metadata": {},
     "output_type": "execute_result"
    }
   ],
   "source": [
    "cyberleninka_raw['articles'][0].keys()"
   ]
  },
  {
   "cell_type": "code",
   "execution_count": 5,
   "metadata": {},
   "outputs": [
    {
     "data": {
      "text/plain": [
       "'/article/n/tehnologiya-primeneniya-patternov-ontologicheskogo-proektirovaniya-dlya-optimizatsii-vypolneniya-zaprosov-v-sistemah-obespecheniya'"
      ]
     },
     "execution_count": 5,
     "metadata": {},
     "output_type": "execute_result"
    }
   ],
   "source": [
    "cyberleninka_raw['articles'][0]['link']"
   ]
  },
  {
   "cell_type": "code",
   "execution_count": 6,
   "metadata": {},
   "outputs": [],
   "source": [
    "authors, titles, abstracts, publication_years, urls = [], [], [], [], []\n",
    "for article in cyberleninka_raw['articles']:\n",
    "    authors.append('; '.join(article['authors']))\n",
    "    titles.append(article['name'])\n",
    "    abstracts.append(article['annotation'])\n",
    "    publication_years.append(article['year'])\n",
    "    urls.append('https://cyberleninka.ru' + article['link'])"
   ]
  },
  {
   "cell_type": "code",
   "execution_count": 7,
   "metadata": {},
   "outputs": [],
   "source": [
    "cyberleninka_df = pd.DataFrame.from_dict({\n",
    "    'authors': authors,\n",
    "    'title': titles,\n",
    "    'abstract': abstracts,\n",
    "    'publication_year': publication_years,\n",
    "    'url': urls\n",
    "})"
   ]
  },
  {
   "cell_type": "code",
   "execution_count": 8,
   "metadata": {},
   "outputs": [],
   "source": [
    "cyberleninka_df.to_csv('../data/literature_search/cyberleninka-2.csv', index=False)"
   ]
  },
  {
   "cell_type": "markdown",
   "metadata": {},
   "source": [
    "# ACL Anthology"
   ]
  },
  {
   "cell_type": "code",
   "execution_count": 29,
   "metadata": {},
   "outputs": [],
   "source": [
    "# replace this regex: month = .*,$ with this: month = \"\",\n",
    "with open('../data/literature_search/raw/anthology-abstracts.bib') as bibtex_file:\n",
    "    bib_database = bibtexparser.load(bibtex_file)"
   ]
  },
  {
   "cell_type": "code",
   "execution_count": 30,
   "metadata": {},
   "outputs": [
    {
     "data": {
      "text/plain": [
       "74539"
      ]
     },
     "execution_count": 30,
     "metadata": {},
     "output_type": "execute_result"
    }
   ],
   "source": [
    "len(bib_database.entries)"
   ]
  },
  {
   "cell_type": "code",
   "execution_count": 31,
   "metadata": {},
   "outputs": [
    {
     "data": {
      "text/plain": [
       "dict_keys(['url', 'publisher', 'address', 'year', 'month', 'editor', 'title', 'ENTRYTYPE', 'ID'])"
      ]
     },
     "execution_count": 31,
     "metadata": {},
     "output_type": "execute_result"
    }
   ],
   "source": [
    "bib_database.entries[0].keys()"
   ]
  },
  {
   "cell_type": "code",
   "execution_count": 40,
   "metadata": {},
   "outputs": [],
   "source": [
    "def filter_paper(title, abstract):\n",
    "    data_terms = [\"Knowledge Base\", \"Knowledge Graph\", \"DBpedia\", \"Wikidata\", \"YAGO\", \"Semantic Web\", \"Linked Data\", \"RDF\", \"data web\", \"SPARQL\", \"Query Graph\", \"Web data\", \"WWW\", \"web of data\", \"QALD\", \"SimpleQuestions\", \"WebQuestions\", \"WebQSP\", \"LC-QuAD\", \"RuBQ\", \"SimpleDBpediaQA\", \"ComplexWebQuestions\", \"CWQ\"]\n",
    "    system_terms = [\"Semantic search\", \"Question Answer\", \"Question-Answer\", \"KBQA\", \"KGQA\", \"KB QA\", \"KB-QA\", \"KG-QA\", \"KG QA\", \"NLI\", \"NLIDB\", \"QA\", \"Natural Language Interface\"]\n",
    "    feature_terms = [\"multilingual\", \"multi-lingual\", \"crosslingual\", \"cross-lingual\", \"cross linguistic\", \"internationalized\", \"multilingualism\", \"multilinguistic\", \"multilanguage\", \"bilingual\", \"many languages\", \"multiple languages\", \"several languages\", \"more than one language\"]\n",
    "\n",
    "    if (any(term.lower() in title.lower() for term in data_terms) and any(term.lower() in title.lower() for term in system_terms) and any(term.lower() in title.lower() for term in feature_terms)) or (any(term.lower() in abstract.lower() for term in data_terms) and any(term.lower() in abstract.lower() for term in system_terms) and any(term.lower() in abstract.lower() for term in feature_terms)):\n",
    "        return True\n",
    "    return False"
   ]
  },
  {
   "cell_type": "code",
   "execution_count": 41,
   "metadata": {},
   "outputs": [
    {
     "name": "stderr",
     "output_type": "stream",
     "text": [
      "100%|██████████| 74539/74539 [00:01<00:00, 46906.70it/s]\n"
     ]
    }
   ],
   "source": [
    "authors, titles, abstracts, publication_years, dois, urls = [], [], [], [], [], []\n",
    "for record in tqdm.tqdm(bib_database.entries):\n",
    "    if filter_paper(title=record['title'] if 'title' in record.keys() else \"\", abstract=record['abstract'] if 'abstract' in record.keys() else \"\"):\n",
    "        authors.append(record['author'] if 'author' in record.keys() else None)\n",
    "        titles.append(record['title'] if 'title' in record.keys() else None)\n",
    "        abstracts.append(record['abstract'] if 'abstract' in record.keys() else None)\n",
    "        publication_years.append(record['year'])\n",
    "        dois.append(('https://doi.org/' + record['doi']) if 'doi' in record.keys() else None)\n",
    "        urls.append(record['url'] if 'url' in record.keys() else None)"
   ]
  },
  {
   "cell_type": "code",
   "execution_count": 43,
   "metadata": {},
   "outputs": [],
   "source": [
    "acl_df = pd.DataFrame.from_dict({\n",
    "    'authors': authors,\n",
    "    'title': titles,\n",
    "    'abstract': abstracts,\n",
    "    'publication_year': publication_years,\n",
    "    'doi': dois,\n",
    "    'url': urls\n",
    "})"
   ]
  },
  {
   "cell_type": "code",
   "execution_count": 44,
   "metadata": {},
   "outputs": [],
   "source": [
    "acl_df.to_csv('../data/literature_search/acl-anthology.csv', index=False)"
   ]
  },
  {
   "cell_type": "code",
   "execution_count": null,
   "metadata": {},
   "outputs": [],
   "source": []
  }
 ],
 "metadata": {
  "interpreter": {
   "hash": "916dbcbb3f70747c44a77c7bcd40155683ae19c65e1c03b4aa3499c5328201f1"
  },
  "kernelspec": {
   "display_name": "Python 3.8.10 64-bit",
   "language": "python",
   "name": "python3"
  },
  "language_info": {
   "codemirror_mode": {
    "name": "ipython",
    "version": 3
   },
   "file_extension": ".py",
   "mimetype": "text/x-python",
   "name": "python",
   "nbconvert_exporter": "python",
   "pygments_lexer": "ipython3",
   "version": "3.8.10"
  },
  "orig_nbformat": 4
 },
 "nbformat": 4,
 "nbformat_minor": 2
}
